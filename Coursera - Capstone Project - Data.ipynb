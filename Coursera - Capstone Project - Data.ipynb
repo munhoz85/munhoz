{
    "cells": [
        {
            "metadata": {
                "collapsed": true
            },
            "cell_type": "markdown",
            "source": "<h1>  Capstone Project - The Battle of the Neighbourhoods </h1>"
        },
        {
            "metadata": {},
            "cell_type": "markdown",
            "source": "<h2> The Brazillian Restaurant in New York </h2>"
        },
        {
            "metadata": {},
            "cell_type": "markdown",
            "source": "<h3> Data sources and usage: </h3>"
        },
        {
            "metadata": {},
            "cell_type": "markdown",
            "source": "<p> The predominant data source comes from the NYC Open Data page and can be found below: </p>\n<p>       https://data.cityofnewyork.us/Public-Safety/NYPD-Motor-Vehicle-Collisions/h9gi-nx95\n    - Vehicle collisions range from 2012 to 2019 and list the location coordinates (longitude and latitude) as\nwell as the contributing factors from both vehicles in the collision.</p>\n<p> 1) The data will be cleaned, analysed and presented as a chart which shows the borough with\nthe least amount of collisions. </p>\n<p> 2) The contributing factors will be presented as a word cloud to have an overview of the factors\nresponsible for the collisions. </p>\n<p> 3) Time permitting, an optional analysis would be conducted on the biggest contributing factors\nto get an in-depth look in the fabric of societal, social and economic issues which were\nresponsible for the contributing factors </p>\n<p> The second source of data is also freely available from NYU. It gives the names of neighborhoods in\nNew York City and can be found below: </p>\n<p>       https://geo.nyu.edu/catalog/nyu_2451_34572 </p>\n<p> Foursquare location data about restaurants in neighborhoods will be essential to determine which\ncuisines already exist in different boroughs. This will be used by the stakeholder to make new recipes. </p>"
        },
        {
            "metadata": {},
            "cell_type": "code",
            "source": "",
            "execution_count": null,
            "outputs": []
        }
    ],
    "metadata": {
        "kernelspec": {
            "name": "python3",
            "display_name": "Python 3.6",
            "language": "python"
        },
        "language_info": {
            "name": "python",
            "version": "3.6.9",
            "mimetype": "text/x-python",
            "codemirror_mode": {
                "name": "ipython",
                "version": 3
            },
            "pygments_lexer": "ipython3",
            "nbconvert_exporter": "python",
            "file_extension": ".py"
        }
    },
    "nbformat": 4,
    "nbformat_minor": 1
}