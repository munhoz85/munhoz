{
    "cells": [
        {
            "metadata": {
                "collapsed": true
            },
            "cell_type": "markdown",
            "source": "<h1> Capstone Project - The Battle of the Neighbourhoods </h1>"
        },
        {
            "metadata": {},
            "cell_type": "markdown",
            "source": "<h2> Introduction </h2>"
        },
        {
            "metadata": {},
            "cell_type": "markdown",
            "source": "<p> This project was inspired by the requirements of week 4 of the Course Applied Data Science Capstone. It presents an analysis of the New York region, based on data from the Foursquare API. The main objective is to find nice places for a new brazillian restaurant in New York.  </p>"
        },
        {
            "metadata": {},
            "cell_type": "markdown",
            "source": "<h2> 1) Business Problem </h2>"
        },
        {
            "metadata": {},
            "cell_type": "markdown",
            "source": "<p> A brazillian stakeholder wants to start his own restaurant brand and as such has chosen New York City as his prime location for his first business outside Brazil. The location has its own set of risks. His requirements for the new estaurant is a safe place and it needs to be family friendly, as that is at the core of his success in Brazil. The cuisine he specialises in is a unique mixture of Brazilian classics such as barbecue, fried fish, feijoada etc., infused with recipes derived from local demographics. In other words, he opens his restaurants in areas with a high number of immigrants and chooses to give the\nlocal dishes an extra kick with select herbs and spices which represent the fabric of local communities. This makes the recipes extremely popular as they appeal to everyone\u2019s taste. </p>\n\n<p> The restaurant reflects the culinary diversity of Brazil: it's cuisine, festive culture and hospitality. It needs to be spacious and inviting, \n    featuring a large bar, and two private parties rooms that accommodate up to 100 guests. Also the menu features includes steaks, exotic salads, \n    vegetarian pastas, seafood, churrascarias (brazillian barbecue) and more. </p>\n    "
        },
        {
            "metadata": {},
            "cell_type": "markdown",
            "source": "<h2> 2) Problem Formulation: </h2>"
        },
        {
            "metadata": {},
            "cell_type": "markdown",
            "source": "<p> As I mentioned before, the location  has to be in a safe area. Ideally, it would be on an intersection as\nthat would give his restaurant the most visibility. However, the intersection should be in a borough\nwith the least amount of vehicle collisions. Once the location has been deemed to be safe, an\noverview of the existing restaurants, and more importantly, the cuisines they cater to will be\ncompleted such that a brazillian restaurant can formulate the exact recipes which will make his restaurant a\nsuccess story.</p>"
        },
        {
            "metadata": {},
            "cell_type": "code",
            "source": "",
            "execution_count": null,
            "outputs": []
        }
    ],
    "metadata": {
        "kernelspec": {
            "name": "python3",
            "display_name": "Python 3.6",
            "language": "python"
        },
        "language_info": {
            "name": "python",
            "version": "3.6.9",
            "mimetype": "text/x-python",
            "codemirror_mode": {
                "name": "ipython",
                "version": 3
            },
            "pygments_lexer": "ipython3",
            "nbconvert_exporter": "python",
            "file_extension": ".py"
        }
    },
    "nbformat": 4,
    "nbformat_minor": 1
}